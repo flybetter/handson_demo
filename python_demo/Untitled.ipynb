{
 "cells": [
  {
   "cell_type": "code",
   "execution_count": 1,
   "metadata": {},
   "outputs": [
    {
     "name": "stdout",
     "output_type": "stream",
     "text": [
      "0 F\n",
      "1 o\n",
      "2 u\n",
      "3 r\n",
      "4  \n",
      "5 s\n",
      "6 c\n",
      "7 o\n",
      "8 r\n",
      "9 e\n",
      "10  \n",
      "11 a\n",
      "12 n\n",
      "13 d\n",
      "14  \n",
      "15 s\n",
      "16 e\n",
      "17 v\n",
      "18 e\n",
      "19 n\n",
      "20  \n",
      "21 y\n",
      "22 e\n",
      "23 a\n",
      "24 r\n",
      "25 s\n",
      "26  \n",
      "27 a\n",
      "28 g\n",
      "29 o\n",
      "30  \n",
      "31 .\n",
      "32 .\n"
     ]
    }
   ],
   "source": [
    "address=\"Four score and seven years ago ..\"\n",
    "\n",
    "for index, text in enumerate(address):\n",
    "    print (index,text)"
   ]
  },
  {
   "cell_type": "code",
   "execution_count": null,
   "metadata": {},
   "outputs": [],
   "source": []
  }
 ],
 "metadata": {
  "kernelspec": {
   "display_name": "Python 3",
   "language": "python",
   "name": "python3"
  },
  "language_info": {
   "codemirror_mode": {
    "name": "ipython",
    "version": 3
   },
   "file_extension": ".py",
   "mimetype": "text/x-python",
   "name": "python",
   "nbconvert_exporter": "python",
   "pygments_lexer": "ipython3",
   "version": "3.6.5"
  }
 },
 "nbformat": 4,
 "nbformat_minor": 2
}
