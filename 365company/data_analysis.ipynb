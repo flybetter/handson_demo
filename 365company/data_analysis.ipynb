{
 "cells": [
  {
   "cell_type": "code",
   "execution_count": 1,
   "metadata": {},
   "outputs": [],
   "source": [
    "import numpy as np\n",
    "import pandas as pd\n",
    "import matplotlib.pyplot as plt\n",
    "import os,sys"
   ]
  },
  {
   "cell_type": "code",
   "execution_count": 2,
   "metadata": {},
   "outputs": [],
   "source": [
    "def get_data_path(name):\n",
    "        return os.path.join('..','datasets','company',name)"
   ]
  },
  {
   "cell_type": "code",
   "execution_count": 3,
   "metadata": {},
   "outputs": [
    {
     "name": "stdout",
     "output_type": "stream",
     "text": [
      "../datasets/company/data.txt\n"
     ]
    }
   ],
   "source": [
    "print(get_data_path('data.txt'))"
   ]
  },
  {
   "cell_type": "code",
   "execution_count": 4,
   "metadata": {},
   "outputs": [
    {
     "data": {
      "text/html": [
       "<div>\n",
       "<style scoped>\n",
       "    .dataframe tbody tr th:only-of-type {\n",
       "        vertical-align: middle;\n",
       "    }\n",
       "\n",
       "    .dataframe tbody tr th {\n",
       "        vertical-align: top;\n",
       "    }\n",
       "\n",
       "    .dataframe thead th {\n",
       "        text-align: right;\n",
       "    }\n",
       "</style>\n",
       "<table border=\"1\" class=\"dataframe\">\n",
       "  <thead>\n",
       "    <tr style=\"text-align: right;\">\n",
       "      <th></th>\n",
       "      <th>B_LAT</th>\n",
       "      <th>B_LNG</th>\n",
       "      <th>CHANNEL</th>\n",
       "      <th>CITY_NAME</th>\n",
       "      <th>CITY_x</th>\n",
       "      <th>CITY_y</th>\n",
       "      <th>CONTEXT</th>\n",
       "      <th>CONTEXT_ID</th>\n",
       "      <th>DATA_DATE</th>\n",
       "      <th>DEVICE_ID</th>\n",
       "      <th>END_TIME</th>\n",
       "      <th>LOGIN_ACCOUNT</th>\n",
       "      <th>PRICE_AVG</th>\n",
       "      <th>PRICE_SHOW</th>\n",
       "      <th>PRJ_DECORATE</th>\n",
       "      <th>PRJ_ITEMNAME</th>\n",
       "      <th>PRJ_LISTID</th>\n",
       "      <th>PRJ_LOC</th>\n",
       "      <th>PRJ_VIEWS</th>\n",
       "      <th>START_TIME</th>\n",
       "    </tr>\n",
       "  </thead>\n",
       "  <tbody>\n",
       "    <tr>\n",
       "      <th>0</th>\n",
       "      <td>32.136261</td>\n",
       "      <td>118.895894</td>\n",
       "      <td>1</td>\n",
       "      <td>南京</td>\n",
       "      <td>南京</td>\n",
       "      <td>nj</td>\n",
       "      <td>168273</td>\n",
       "      <td>1-168273</td>\n",
       "      <td>1540684800000</td>\n",
       "      <td>F9572AF7-0A89-472F-8B3A-24208150EA75</td>\n",
       "      <td>2018-10-28 21:05:08</td>\n",
       "      <td>15051850598</td>\n",
       "      <td>18500</td>\n",
       "      <td>18500元/㎡</td>\n",
       "      <td>毛坯</td>\n",
       "      <td>华润幸福里</td>\n",
       "      <td>168273</td>\n",
       "      <td>翠林北路和钱塘路交汇处</td>\n",
       "      <td>167451</td>\n",
       "      <td>2018-10-28 00:04:25</td>\n",
       "    </tr>\n",
       "    <tr>\n",
       "      <th>1</th>\n",
       "      <td>32.136261</td>\n",
       "      <td>118.895894</td>\n",
       "      <td>1</td>\n",
       "      <td>南京</td>\n",
       "      <td>南京</td>\n",
       "      <td>nj</td>\n",
       "      <td>168273</td>\n",
       "      <td>1-168273</td>\n",
       "      <td>1540684800000</td>\n",
       "      <td>F9572AF7-0A89-472F-8B3A-24208150EA75</td>\n",
       "      <td>2018-10-28 21:05:31</td>\n",
       "      <td>15051850598</td>\n",
       "      <td>18500</td>\n",
       "      <td>18500元/㎡</td>\n",
       "      <td>毛坯</td>\n",
       "      <td>华润幸福里</td>\n",
       "      <td>168273</td>\n",
       "      <td>翠林北路和钱塘路交汇处</td>\n",
       "      <td>167451</td>\n",
       "      <td>2018-10-28 00:23:47</td>\n",
       "    </tr>\n",
       "    <tr>\n",
       "      <th>2</th>\n",
       "      <td>32.084362</td>\n",
       "      <td>118.740803</td>\n",
       "      <td>1</td>\n",
       "      <td>南京</td>\n",
       "      <td>南京</td>\n",
       "      <td>nj</td>\n",
       "      <td>412</td>\n",
       "      <td>1-412</td>\n",
       "      <td>1540684800000</td>\n",
       "      <td>F9572AF7-0A89-472F-8B3A-24208150EA75</td>\n",
       "      <td>2018-10-28 21:05:49</td>\n",
       "      <td>15051850598</td>\n",
       "      <td>35920</td>\n",
       "      <td>35920元/㎡</td>\n",
       "      <td>毛坯；精装修</td>\n",
       "      <td>世茂外滩新城</td>\n",
       "      <td>412</td>\n",
       "      <td>鼓楼区南通路89号</td>\n",
       "      <td>3901411</td>\n",
       "      <td>2018-10-28 10:03:06</td>\n",
       "    </tr>\n",
       "    <tr>\n",
       "      <th>3</th>\n",
       "      <td>32.037937</td>\n",
       "      <td>118.917856</td>\n",
       "      <td>1</td>\n",
       "      <td>南京</td>\n",
       "      <td>南京</td>\n",
       "      <td>nj</td>\n",
       "      <td>234015</td>\n",
       "      <td>1-234015</td>\n",
       "      <td>1540684800000</td>\n",
       "      <td>F9572AF7-0A89-472F-8B3A-24208150EA75</td>\n",
       "      <td>2018-10-28 21:06:30</td>\n",
       "      <td>15051850598</td>\n",
       "      <td>28900</td>\n",
       "      <td>28900元/㎡</td>\n",
       "      <td>精装</td>\n",
       "      <td>熙悦</td>\n",
       "      <td>234015</td>\n",
       "      <td>麒麟中心区域（东至瑞云路、南至南湾营路、西至沧麒东路、北至天和路）</td>\n",
       "      <td>54872</td>\n",
       "      <td>2018-10-28 13:02:42</td>\n",
       "    </tr>\n",
       "    <tr>\n",
       "      <th>4</th>\n",
       "      <td>32.037937</td>\n",
       "      <td>118.917856</td>\n",
       "      <td>1</td>\n",
       "      <td>南京</td>\n",
       "      <td>南京</td>\n",
       "      <td>nj</td>\n",
       "      <td>234015</td>\n",
       "      <td>1-234015</td>\n",
       "      <td>1540684800000</td>\n",
       "      <td>F9572AF7-0A89-472F-8B3A-24208150EA75</td>\n",
       "      <td>2018-10-28 21:07:46</td>\n",
       "      <td>15051850598</td>\n",
       "      <td>28900</td>\n",
       "      <td>28900元/㎡</td>\n",
       "      <td>精装</td>\n",
       "      <td>熙悦</td>\n",
       "      <td>234015</td>\n",
       "      <td>麒麟中心区域（东至瑞云路、南至南湾营路、西至沧麒东路、北至天和路）</td>\n",
       "      <td>54872</td>\n",
       "      <td>2018-10-28 13:03:28</td>\n",
       "    </tr>\n",
       "  </tbody>\n",
       "</table>\n",
       "</div>"
      ],
      "text/plain": [
       "       B_LAT       B_LNG  CHANNEL CITY_NAME CITY_x CITY_y  CONTEXT CONTEXT_ID  \\\n",
       "0  32.136261  118.895894        1        南京     南京     nj   168273   1-168273   \n",
       "1  32.136261  118.895894        1        南京     南京     nj   168273   1-168273   \n",
       "2  32.084362  118.740803        1        南京     南京     nj      412      1-412   \n",
       "3  32.037937  118.917856        1        南京     南京     nj   234015   1-234015   \n",
       "4  32.037937  118.917856        1        南京     南京     nj   234015   1-234015   \n",
       "\n",
       "       DATA_DATE                             DEVICE_ID             END_TIME  \\\n",
       "0  1540684800000  F9572AF7-0A89-472F-8B3A-24208150EA75  2018-10-28 21:05:08   \n",
       "1  1540684800000  F9572AF7-0A89-472F-8B3A-24208150EA75  2018-10-28 21:05:31   \n",
       "2  1540684800000  F9572AF7-0A89-472F-8B3A-24208150EA75  2018-10-28 21:05:49   \n",
       "3  1540684800000  F9572AF7-0A89-472F-8B3A-24208150EA75  2018-10-28 21:06:30   \n",
       "4  1540684800000  F9572AF7-0A89-472F-8B3A-24208150EA75  2018-10-28 21:07:46   \n",
       "\n",
       "   LOGIN_ACCOUNT  PRICE_AVG PRICE_SHOW PRJ_DECORATE PRJ_ITEMNAME  PRJ_LISTID  \\\n",
       "0    15051850598      18500   18500元/㎡           毛坯        华润幸福里      168273   \n",
       "1    15051850598      18500   18500元/㎡           毛坯        华润幸福里      168273   \n",
       "2    15051850598      35920   35920元/㎡       毛坯；精装修       世茂外滩新城         412   \n",
       "3    15051850598      28900   28900元/㎡           精装           熙悦      234015   \n",
       "4    15051850598      28900   28900元/㎡           精装           熙悦      234015   \n",
       "\n",
       "                             PRJ_LOC  PRJ_VIEWS           START_TIME  \n",
       "0                        翠林北路和钱塘路交汇处     167451  2018-10-28 00:04:25  \n",
       "1                        翠林北路和钱塘路交汇处     167451  2018-10-28 00:23:47  \n",
       "2                          鼓楼区南通路89号    3901411  2018-10-28 10:03:06  \n",
       "3  麒麟中心区域（东至瑞云路、南至南湾营路、西至沧麒东路、北至天和路）      54872  2018-10-28 13:02:42  \n",
       "4  麒麟中心区域（东至瑞云路、南至南湾营路、西至沧麒东路、北至天和路）      54872  2018-10-28 13:03:28  "
      ]
     },
     "execution_count": 4,
     "metadata": {},
     "output_type": "execute_result"
    }
   ],
   "source": [
    "path=\"../datasets/company/data.txt\"\n",
    "df=pd.read_csv(get_data_path('data.txt'))\n",
    "df.head()"
   ]
  },
  {
   "cell_type": "code",
   "execution_count": 5,
   "metadata": {},
   "outputs": [],
   "source": [
    "%matplotlib inline\n",
    "import matplotlib\n",
    "import matplotlib.pyplot as plt"
   ]
  },
  {
   "cell_type": "code",
   "execution_count": 6,
   "metadata": {},
   "outputs": [
    {
     "data": {
      "text/plain": [
       "<matplotlib.axes._subplots.AxesSubplot at 0x113aa3eb8>"
      ]
     },
     "execution_count": 6,
     "metadata": {},
     "output_type": "execute_result"
    },
    {
     "data": {
      "image/png": "[encoded data removed]",
      "text/plain": [
       "<Figure size 432x288 with 1 Axes>"
      ]
     },
     "metadata": {},
     "output_type": "display_data"
    }
   ],
   "source": [
    "df['PRICE_AVG'].hist(density=1)"
   ]
  },
  {
   "cell_type": "code",
   "execution_count": 19,
   "metadata": {},
   "outputs": [
    {
     "data": {
      "image/png": "[encoded data removed]",
      "text/plain": [
       "<Figure size 432x288 with 1 Axes>"
      ]
     },
     "metadata": {},
     "output_type": "display_data"
    }
   ],
   "source": [
    "plt.hist(df['PRICE_AVG'])\n",
    "plt.xticks(np.arange(df['PRICE_AVG'].min(),df['PRICE_AVG'].max(),5000))\n",
    "plt.grid(True)"
   ]
  },
  {
   "cell_type": "code",
   "execution_count": null,
   "metadata": {},
   "outputs": [],
   "source": [
    "1111"
   ]
  },
  {
   "cell_type": "code",
   "execution_count": null,
   "metadata": {},
   "outputs": [],
   "source": [
    "\n"
   ]
  }
 ],
 "metadata": {
  "kernelspec": {
   "display_name": "Python 3",
   "language": "python",
   "name": "python3"
  },
  "language_info": {
   "codemirror_mode": {
    "name": "ipython",
    "version": 3
   },
   "file_extension": ".py",
   "mimetype": "text/x-python",
   "name": "python",
   "nbconvert_exporter": "python",
   "pygments_lexer": "ipython3",
   "version": "3.6.5"
  }
 },
 "nbformat": 4,
 "nbformat_minor": 2
}
