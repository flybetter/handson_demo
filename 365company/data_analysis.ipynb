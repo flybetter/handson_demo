{
 "cells": [
  {
   "cell_type": "code",
   "execution_count": 1,
   "metadata": {},
   "outputs": [],
   "source": [
    "import numpy as np\n",
    "import pandas as pd\n",
    "import matplotlib.pyplot as plt\n",
    "import os,sys"
   ]
  },
  {
   "cell_type": "code",
   "execution_count": 2,
   "metadata": {},
   "outputs": [],
   "source": [
    "def get_data_path(name):\n",
    "        return os.path.join('..','datasets','company',name)"
   ]
  },
  {
   "cell_type": "code",
   "execution_count": 3,
   "metadata": {},
   "outputs": [
    {
     "name": "stdout",
     "output_type": "stream",
     "text": [
      "../datasets/company/data.txt\n"
     ]
    }
   ],
   "source": [
    "print(get_data_path('data.txt'))"
   ]
  },
  {
   "cell_type": "code",
   "execution_count": 4,
   "metadata": {},
   "outputs": [
    {
     "data": {
      "text/html": [
       "<div>\n",
       "<style scoped>\n",
       "    .dataframe tbody tr th:only-of-type {\n",
       "        vertical-align: middle;\n",
       "    }\n",
       "\n",
       "    .dataframe tbody tr th {\n",
       "        vertical-align: top;\n",
       "    }\n",
       "\n",
       "    .dataframe thead th {\n",
       "        text-align: right;\n",
       "    }\n",
       "</style>\n",
       "<table border=\"1\" class=\"dataframe\">\n",
       "  <thead>\n",
       "    <tr style=\"text-align: right;\">\n",
       "      <th></th>\n",
       "      <th>B_LAT</th>\n",
       "      <th>B_LNG</th>\n",
       "      <th>CHANNEL</th>\n",
       "      <th>CITY_NAME</th>\n",
       "      <th>CITY_x</th>\n",
       "      <th>CITY_y</th>\n",
       "      <th>CONTEXT</th>\n",
       "      <th>CONTEXT_ID</th>\n",
       "      <th>DATA_DATE</th>\n",
       "      <th>DEVICE_ID</th>\n",
       "      <th>END_TIME</th>\n",
       "      <th>LOGIN_ACCOUNT</th>\n",
       "      <th>PRICE_AVG</th>\n",
       "      <th>PRICE_SHOW</th>\n",
       "      <th>PRJ_DECORATE</th>\n",
       "      <th>PRJ_ITEMNAME</th>\n",
       "      <th>PRJ_LISTID</th>\n",
       "      <th>PRJ_LOC</th>\n",
       "      <th>PRJ_VIEWS</th>\n",
       "      <th>START_TIME</th>\n",
       "    </tr>\n",
       "  </thead>\n",
       "  <tbody>\n",
       "    <tr>\n",
       "      <th>0</th>\n",
       "      <td>32.136261</td>\n",
       "      <td>118.895894</td>\n",
       "      <td>1</td>\n",
       "      <td>南京</td>\n",
       "      <td>南京</td>\n",
       "      <td>nj</td>\n",
       "      <td>168273</td>\n",
       "      <td>1-168273</td>\n",
       "      <td>1540684800000</td>\n",
       "      <td>F9572AF7-0A89-472F-8B3A-24208150EA75</td>\n",
       "      <td>2018-10-28 21:05:08</td>\n",
       "      <td>15051850598</td>\n",
       "      <td>18500</td>\n",
       "      <td>18500元/㎡</td>\n",
       "      <td>毛坯</td>\n",
       "      <td>华润幸福里</td>\n",
       "      <td>168273</td>\n",
       "      <td>翠林北路和钱塘路交汇处</td>\n",
       "      <td>167451</td>\n",
       "      <td>2018-10-28 00:04:25</td>\n",
       "    </tr>\n",
       "    <tr>\n",
       "      <th>1</th>\n",
       "      <td>32.136261</td>\n",
       "      <td>118.895894</td>\n",
       "      <td>1</td>\n",
       "      <td>南京</td>\n",
       "      <td>南京</td>\n",
       "      <td>nj</td>\n",
       "      <td>168273</td>\n",
       "      <td>1-168273</td>\n",
       "      <td>1540684800000</td>\n",
       "      <td>F9572AF7-0A89-472F-8B3A-24208150EA75</td>\n",
       "      <td>2018-10-28 21:05:31</td>\n",
       "      <td>15051850598</td>\n",
       "      <td>18500</td>\n",
       "      <td>18500元/㎡</td>\n",
       "      <td>毛坯</td>\n",
       "      <td>华润幸福里</td>\n",
       "      <td>168273</td>\n",
       "      <td>翠林北路和钱塘路交汇处</td>\n",
       "      <td>167451</td>\n",
       "      <td>2018-10-28 00:23:47</td>\n",
       "    </tr>\n",
       "    <tr>\n",
       "      <th>2</th>\n",
       "      <td>32.084362</td>\n",
       "      <td>118.740803</td>\n",
       "      <td>1</td>\n",
       "      <td>南京</td>\n",
       "      <td>南京</td>\n",
       "      <td>nj</td>\n",
       "      <td>412</td>\n",
       "      <td>1-412</td>\n",
       "      <td>1540684800000</td>\n",
       "      <td>F9572AF7-0A89-472F-8B3A-24208150EA75</td>\n",
       "      <td>2018-10-28 21:05:49</td>\n",
       "      <td>15051850598</td>\n",
       "      <td>35920</td>\n",
       "      <td>35920元/㎡</td>\n",
       "      <td>毛坯；精装修</td>\n",
       "      <td>世茂外滩新城</td>\n",
       "      <td>412</td>\n",
       "      <td>鼓楼区南通路89号</td>\n",
       "      <td>3901411</td>\n",
       "      <td>2018-10-28 10:03:06</td>\n",
       "    </tr>\n",
       "    <tr>\n",
       "      <th>3</th>\n",
       "      <td>32.037937</td>\n",
       "      <td>118.917856</td>\n",
       "      <td>1</td>\n",
       "      <td>南京</td>\n",
       "      <td>南京</td>\n",
       "      <td>nj</td>\n",
       "      <td>234015</td>\n",
       "      <td>1-234015</td>\n",
       "      <td>1540684800000</td>\n",
       "      <td>F9572AF7-0A89-472F-8B3A-24208150EA75</td>\n",
       "      <td>2018-10-28 21:06:30</td>\n",
       "      <td>15051850598</td>\n",
       "      <td>28900</td>\n",
       "      <td>28900元/㎡</td>\n",
       "      <td>精装</td>\n",
       "      <td>熙悦</td>\n",
       "      <td>234015</td>\n",
       "      <td>麒麟中心区域（东至瑞云路、南至南湾营路、西至沧麒东路、北至天和路）</td>\n",
       "      <td>54872</td>\n",
       "      <td>2018-10-28 13:02:42</td>\n",
       "    </tr>\n",
       "    <tr>\n",
       "      <th>4</th>\n",
       "      <td>32.037937</td>\n",
       "      <td>118.917856</td>\n",
       "      <td>1</td>\n",
       "      <td>南京</td>\n",
       "      <td>南京</td>\n",
       "      <td>nj</td>\n",
       "      <td>234015</td>\n",
       "      <td>1-234015</td>\n",
       "      <td>1540684800000</td>\n",
       "      <td>F9572AF7-0A89-472F-8B3A-24208150EA75</td>\n",
       "      <td>2018-10-28 21:07:46</td>\n",
       "      <td>15051850598</td>\n",
       "      <td>28900</td>\n",
       "      <td>28900元/㎡</td>\n",
       "      <td>精装</td>\n",
       "      <td>熙悦</td>\n",
       "      <td>234015</td>\n",
       "      <td>麒麟中心区域（东至瑞云路、南至南湾营路、西至沧麒东路、北至天和路）</td>\n",
       "      <td>54872</td>\n",
       "      <td>2018-10-28 13:03:28</td>\n",
       "    </tr>\n",
       "  </tbody>\n",
       "</table>\n",
       "</div>"
      ],
      "text/plain": [
       "       B_LAT       B_LNG  CHANNEL CITY_NAME CITY_x CITY_y  CONTEXT CONTEXT_ID  \\\n",
       "0  32.136261  118.895894        1        南京     南京     nj   168273   1-168273   \n",
       "1  32.136261  118.895894        1        南京     南京     nj   168273   1-168273   \n",
       "2  32.084362  118.740803        1        南京     南京     nj      412      1-412   \n",
       "3  32.037937  118.917856        1        南京     南京     nj   234015   1-234015   \n",
       "4  32.037937  118.917856        1        南京     南京     nj   234015   1-234015   \n",
       "\n",
       "       DATA_DATE                             DEVICE_ID             END_TIME  \\\n",
       "0  1540684800000  F9572AF7-0A89-472F-8B3A-24208150EA75  2018-10-28 21:05:08   \n",
       "1  1540684800000  F9572AF7-0A89-472F-8B3A-24208150EA75  2018-10-28 21:05:31   \n",
       "2  1540684800000  F9572AF7-0A89-472F-8B3A-24208150EA75  2018-10-28 21:05:49   \n",
       "3  1540684800000  F9572AF7-0A89-472F-8B3A-24208150EA75  2018-10-28 21:06:30   \n",
       "4  1540684800000  F9572AF7-0A89-472F-8B3A-24208150EA75  2018-10-28 21:07:46   \n",
       "\n",
       "   LOGIN_ACCOUNT  PRICE_AVG PRICE_SHOW PRJ_DECORATE PRJ_ITEMNAME  PRJ_LISTID  \\\n",
       "0    15051850598      18500   18500元/㎡           毛坯        华润幸福里      168273   \n",
       "1    15051850598      18500   18500元/㎡           毛坯        华润幸福里      168273   \n",
       "2    15051850598      35920   35920元/㎡       毛坯；精装修       世茂外滩新城         412   \n",
       "3    15051850598      28900   28900元/㎡           精装           熙悦      234015   \n",
       "4    15051850598      28900   28900元/㎡           精装           熙悦      234015   \n",
       "\n",
       "                             PRJ_LOC  PRJ_VIEWS           START_TIME  \n",
       "0                        翠林北路和钱塘路交汇处     167451  2018-10-28 00:04:25  \n",
       "1                        翠林北路和钱塘路交汇处     167451  2018-10-28 00:23:47  \n",
       "2                          鼓楼区南通路89号    3901411  2018-10-28 10:03:06  \n",
       "3  麒麟中心区域（东至瑞云路、南至南湾营路、西至沧麒东路、北至天和路）      54872  2018-10-28 13:02:42  \n",
       "4  麒麟中心区域（东至瑞云路、南至南湾营路、西至沧麒东路、北至天和路）      54872  2018-10-28 13:03:28  "
      ]
     },
     "execution_count": 4,
     "metadata": {},
     "output_type": "execute_result"
    }
   ],
   "source": [
    "path=\"../datasets/company/data.txt\"\n",
    "df=pd.read_csv(get_data_path('data.txt'))\n",
    "df.head()"
   ]
  },
  {
   "cell_type": "code",
   "execution_count": 5,
   "metadata": {},
   "outputs": [],
   "source": [
    "%matplotlib inline\n",
    "import matplotlib\n",
    "import matplotlib.pyplot as plt"
   ]
  },
  {
   "cell_type": "code",
   "execution_count": 6,
   "metadata": {},
   "outputs": [
    {
     "data": {
      "text/plain": [
       "<matplotlib.axes._subplots.AxesSubplot at 0x1147afe48>"
      ]
     },
     "execution_count": 6,
     "metadata": {},
     "output_type": "execute_result"
    },
    {
     "data": {
      "image/png": "[encoded data removed]",
      "text/plain": [
       "<Figure size 432x288 with 1 Axes>"
      ]
     },
     "metadata": {},
     "output_type": "display_data"
    }
   ],
   "source": [
    "df['PRICE_AVG'].hist(density=1)"
   ]
  },
  {
   "cell_type": "code",
   "execution_count": 7,
   "metadata": {},
   "outputs": [
    {
     "data": {
      "image/png": "[encoded data removed]",
      "text/plain": [
       "<Figure size 432x288 with 1 Axes>"
      ]
     },
     "metadata": {},
     "output_type": "display_data"
    }
   ],
   "source": [
    "plt.hist(df['PRICE_AVG'])\n",
    "plt.xticks(np.arange(df['PRICE_AVG'].min(),df['PRICE_AVG'].max(),5000))\n",
    "plt.grid(True)"
   ]
  },
  {
   "cell_type": "code",
   "execution_count": 10,
   "metadata": {},
   "outputs": [
    {
     "data": {
      "text/plain": [
       "<matplotlib.axes._subplots.AxesSubplot at 0x114b7d860>"
      ]
     },
     "execution_count": 10,
     "metadata": {},
     "output_type": "execute_result"
    },
    {
     "data": {
      "image/png": "[encoded data removed]",
      "text/plain": [
       "<Figure size 720x720 with 1 Axes>"
      ]
     },
     "metadata": {},
     "output_type": "display_data"
    }
   ],
   "source": [
    "map=df[['B_LAT','B_LNG']].copy()\n",
    "\n",
    "map.plot(kind='scatter',x='B_LNG',y='B_LAT',figsize=(10,10))"
   ]
  },
  {
   "cell_type": "code",
   "execution_count": 23,
   "metadata": {},
   "outputs": [
    {
     "data": {
      "text/plain": [
       "Text(0.5,1,'use the elbow picutue to show')"
      ]
     },
     "execution_count": 23,
     "metadata": {},
     "output_type": "execute_result"
    },
    {
     "data": {
      "image/png": "[encoded data removed]",
      "text/plain": [
       "<Figure size 432x288 with 1 Axes>"
      ]
     },
     "metadata": {},
     "output_type": "display_data"
    }
   ],
   "source": [
    "from sklearn.cluster import KMeans\n",
    "from scipy.spatial.distance import cdist\n",
    "\n",
    "K=range(1,10)\n",
    "meandistortions=[]\n",
    "for k in K:\n",
    "    kmeans=KMeans(n_clusters=k)\n",
    "    kmeans.fit(map)\n",
    "    meandistortions.append(sum(np.min(cdist(map,kmeans.cluster_centers_,'euclidean'),axis=1))/map.shape[0])\n",
    "plt.plot(K,meandistortions,'bx-')\n",
    "plt.xlabel('k')\n",
    "plt.ylabel('avg')\n",
    "plt.title(\"use the elbow picutue to show\")\n",
    "    "
   ]
  },
  {
   "cell_type": "code",
   "execution_count": 29,
   "metadata": {},
   "outputs": [
    {
     "data": {
      "text/plain": [
       "32.136260766"
      ]
     },
     "execution_count": 29,
     "metadata": {},
     "output_type": "execute_result"
    }
   ],
   "source": [
    "map.iloc[1,0]\n"
   ]
  },
  {
   "cell_type": "code",
   "execution_count": 38,
   "metadata": {},
   "outputs": [
    {
     "ename": "ValueError",
     "evalue": "x and y must have same first dimension, but have shapes (1, 2) and (0, 2)",
     "output_type": "error",
     "traceback": [
      "\u001b[0;31m---------------------------------------------------------------------------\u001b[0m",
      "\u001b[0;31mValueError\u001b[0m                                Traceback (most recent call last)",
      "\u001b[0;32m<ipython-input-38-1cdc4b919929>\u001b[0m in \u001b[0;36m<module>\u001b[0;34m()\u001b[0m\n\u001b[1;32m     17\u001b[0m         plt.plot(map.iloc[i:1],map.iloc[i:0],color=colors[l],\n\u001b[1;32m     18\u001b[0m              \u001b[0mmarker\u001b[0m\u001b[0;34m=\u001b[0m\u001b[0mmarkers\u001b[0m\u001b[0;34m[\u001b[0m\u001b[0ml\u001b[0m\u001b[0;34m]\u001b[0m\u001b[0;34m,\u001b[0m\u001b[0;34m\u001b[0m\u001b[0m\n\u001b[0;32m---> 19\u001b[0;31m                  ls='None')\n\u001b[0m\u001b[1;32m     20\u001b[0m         plt.title('K = %s, aa = %.03f' % \n\u001b[1;32m     21\u001b[0m                   (t, metrics.silhouette_score\n",
      "\u001b[0;32m~/.pyenv/versions/anaconda3-5.2.0/lib/python3.6/site-packages/matplotlib/pyplot.py\u001b[0m in \u001b[0;36mplot\u001b[0;34m(*args, **kwargs)\u001b[0m\n\u001b[1;32m   3356\u001b[0m                       mplDeprecation)\n\u001b[1;32m   3357\u001b[0m     \u001b[0;32mtry\u001b[0m\u001b[0;34m:\u001b[0m\u001b[0;34m\u001b[0m\u001b[0m\n\u001b[0;32m-> 3358\u001b[0;31m         \u001b[0mret\u001b[0m \u001b[0;34m=\u001b[0m \u001b[0max\u001b[0m\u001b[0;34m.\u001b[0m\u001b[0mplot\u001b[0m\u001b[0;34m(\u001b[0m\u001b[0;34m*\u001b[0m\u001b[0margs\u001b[0m\u001b[0;34m,\u001b[0m \u001b[0;34m**\u001b[0m\u001b[0mkwargs\u001b[0m\u001b[0;34m)\u001b[0m\u001b[0;34m\u001b[0m\u001b[0m\n\u001b[0m\u001b[1;32m   3359\u001b[0m     \u001b[0;32mfinally\u001b[0m\u001b[0;34m:\u001b[0m\u001b[0;34m\u001b[0m\u001b[0m\n\u001b[1;32m   3360\u001b[0m         \u001b[0max\u001b[0m\u001b[0;34m.\u001b[0m\u001b[0m_hold\u001b[0m \u001b[0;34m=\u001b[0m \u001b[0mwashold\u001b[0m\u001b[0;34m\u001b[0m\u001b[0m\n",
      "\u001b[0;32m~/.pyenv/versions/anaconda3-5.2.0/lib/python3.6/site-packages/matplotlib/__init__.py\u001b[0m in \u001b[0;36minner\u001b[0;34m(ax, *args, **kwargs)\u001b[0m\n\u001b[1;32m   1853\u001b[0m                         \u001b[0;34m\"the Matplotlib list!)\"\u001b[0m \u001b[0;34m%\u001b[0m \u001b[0;34m(\u001b[0m\u001b[0mlabel_namer\u001b[0m\u001b[0;34m,\u001b[0m \u001b[0mfunc\u001b[0m\u001b[0;34m.\u001b[0m\u001b[0m__name__\u001b[0m\u001b[0;34m)\u001b[0m\u001b[0;34m,\u001b[0m\u001b[0;34m\u001b[0m\u001b[0m\n\u001b[1;32m   1854\u001b[0m                         RuntimeWarning, stacklevel=2)\n\u001b[0;32m-> 1855\u001b[0;31m             \u001b[0;32mreturn\u001b[0m \u001b[0mfunc\u001b[0m\u001b[0;34m(\u001b[0m\u001b[0max\u001b[0m\u001b[0;34m,\u001b[0m \u001b[0;34m*\u001b[0m\u001b[0margs\u001b[0m\u001b[0;34m,\u001b[0m \u001b[0;34m**\u001b[0m\u001b[0mkwargs\u001b[0m\u001b[0;34m)\u001b[0m\u001b[0;34m\u001b[0m\u001b[0m\n\u001b[0m\u001b[1;32m   1856\u001b[0m \u001b[0;34m\u001b[0m\u001b[0m\n\u001b[1;32m   1857\u001b[0m         inner.__doc__ = _add_data_doc(inner.__doc__,\n",
      "\u001b[0;32m~/.pyenv/versions/anaconda3-5.2.0/lib/python3.6/site-packages/matplotlib/axes/_axes.py\u001b[0m in \u001b[0;36mplot\u001b[0;34m(self, *args, **kwargs)\u001b[0m\n\u001b[1;32m   1525\u001b[0m         \u001b[0mkwargs\u001b[0m \u001b[0;34m=\u001b[0m \u001b[0mcbook\u001b[0m\u001b[0;34m.\u001b[0m\u001b[0mnormalize_kwargs\u001b[0m\u001b[0;34m(\u001b[0m\u001b[0mkwargs\u001b[0m\u001b[0;34m,\u001b[0m \u001b[0m_alias_map\u001b[0m\u001b[0;34m)\u001b[0m\u001b[0;34m\u001b[0m\u001b[0m\n\u001b[1;32m   1526\u001b[0m \u001b[0;34m\u001b[0m\u001b[0m\n\u001b[0;32m-> 1527\u001b[0;31m         \u001b[0;32mfor\u001b[0m \u001b[0mline\u001b[0m \u001b[0;32min\u001b[0m \u001b[0mself\u001b[0m\u001b[0;34m.\u001b[0m\u001b[0m_get_lines\u001b[0m\u001b[0;34m(\u001b[0m\u001b[0;34m*\u001b[0m\u001b[0margs\u001b[0m\u001b[0;34m,\u001b[0m \u001b[0;34m**\u001b[0m\u001b[0mkwargs\u001b[0m\u001b[0;34m)\u001b[0m\u001b[0;34m:\u001b[0m\u001b[0;34m\u001b[0m\u001b[0m\n\u001b[0m\u001b[1;32m   1528\u001b[0m             \u001b[0mself\u001b[0m\u001b[0;34m.\u001b[0m\u001b[0madd_line\u001b[0m\u001b[0;34m(\u001b[0m\u001b[0mline\u001b[0m\u001b[0;34m)\u001b[0m\u001b[0;34m\u001b[0m\u001b[0m\n\u001b[1;32m   1529\u001b[0m             \u001b[0mlines\u001b[0m\u001b[0;34m.\u001b[0m\u001b[0mappend\u001b[0m\u001b[0;34m(\u001b[0m\u001b[0mline\u001b[0m\u001b[0;34m)\u001b[0m\u001b[0;34m\u001b[0m\u001b[0m\n",
      "\u001b[0;32m~/.pyenv/versions/anaconda3-5.2.0/lib/python3.6/site-packages/matplotlib/axes/_base.py\u001b[0m in \u001b[0;36m_grab_next_args\u001b[0;34m(self, *args, **kwargs)\u001b[0m\n\u001b[1;32m    404\u001b[0m                 \u001b[0mthis\u001b[0m \u001b[0;34m+=\u001b[0m \u001b[0margs\u001b[0m\u001b[0;34m[\u001b[0m\u001b[0;36m0\u001b[0m\u001b[0;34m]\u001b[0m\u001b[0;34m,\u001b[0m\u001b[0;34m\u001b[0m\u001b[0m\n\u001b[1;32m    405\u001b[0m                 \u001b[0margs\u001b[0m \u001b[0;34m=\u001b[0m \u001b[0margs\u001b[0m\u001b[0;34m[\u001b[0m\u001b[0;36m1\u001b[0m\u001b[0;34m:\u001b[0m\u001b[0;34m]\u001b[0m\u001b[0;34m\u001b[0m\u001b[0m\n\u001b[0;32m--> 406\u001b[0;31m             \u001b[0;32mfor\u001b[0m \u001b[0mseg\u001b[0m \u001b[0;32min\u001b[0m \u001b[0mself\u001b[0m\u001b[0;34m.\u001b[0m\u001b[0m_plot_args\u001b[0m\u001b[0;34m(\u001b[0m\u001b[0mthis\u001b[0m\u001b[0;34m,\u001b[0m \u001b[0mkwargs\u001b[0m\u001b[0;34m)\u001b[0m\u001b[0;34m:\u001b[0m\u001b[0;34m\u001b[0m\u001b[0m\n\u001b[0m\u001b[1;32m    407\u001b[0m                 \u001b[0;32myield\u001b[0m \u001b[0mseg\u001b[0m\u001b[0;34m\u001b[0m\u001b[0m\n\u001b[1;32m    408\u001b[0m \u001b[0;34m\u001b[0m\u001b[0m\n",
      "\u001b[0;32m~/.pyenv/versions/anaconda3-5.2.0/lib/python3.6/site-packages/matplotlib/axes/_base.py\u001b[0m in \u001b[0;36m_plot_args\u001b[0;34m(self, tup, kwargs)\u001b[0m\n\u001b[1;32m    381\u001b[0m             \u001b[0mx\u001b[0m\u001b[0;34m,\u001b[0m \u001b[0my\u001b[0m \u001b[0;34m=\u001b[0m \u001b[0mindex_of\u001b[0m\u001b[0;34m(\u001b[0m\u001b[0mtup\u001b[0m\u001b[0;34m[\u001b[0m\u001b[0;34m-\u001b[0m\u001b[0;36m1\u001b[0m\u001b[0;34m]\u001b[0m\u001b[0;34m)\u001b[0m\u001b[0;34m\u001b[0m\u001b[0m\n\u001b[1;32m    382\u001b[0m \u001b[0;34m\u001b[0m\u001b[0m\n\u001b[0;32m--> 383\u001b[0;31m         \u001b[0mx\u001b[0m\u001b[0;34m,\u001b[0m \u001b[0my\u001b[0m \u001b[0;34m=\u001b[0m \u001b[0mself\u001b[0m\u001b[0;34m.\u001b[0m\u001b[0m_xy_from_xy\u001b[0m\u001b[0;34m(\u001b[0m\u001b[0mx\u001b[0m\u001b[0;34m,\u001b[0m \u001b[0my\u001b[0m\u001b[0;34m)\u001b[0m\u001b[0;34m\u001b[0m\u001b[0m\n\u001b[0m\u001b[1;32m    384\u001b[0m \u001b[0;34m\u001b[0m\u001b[0m\n\u001b[1;32m    385\u001b[0m         \u001b[0;32mif\u001b[0m \u001b[0mself\u001b[0m\u001b[0;34m.\u001b[0m\u001b[0mcommand\u001b[0m \u001b[0;34m==\u001b[0m \u001b[0;34m'plot'\u001b[0m\u001b[0;34m:\u001b[0m\u001b[0;34m\u001b[0m\u001b[0m\n",
      "\u001b[0;32m~/.pyenv/versions/anaconda3-5.2.0/lib/python3.6/site-packages/matplotlib/axes/_base.py\u001b[0m in \u001b[0;36m_xy_from_xy\u001b[0;34m(self, x, y)\u001b[0m\n\u001b[1;32m    240\u001b[0m         \u001b[0;32mif\u001b[0m \u001b[0mx\u001b[0m\u001b[0;34m.\u001b[0m\u001b[0mshape\u001b[0m\u001b[0;34m[\u001b[0m\u001b[0;36m0\u001b[0m\u001b[0;34m]\u001b[0m \u001b[0;34m!=\u001b[0m \u001b[0my\u001b[0m\u001b[0;34m.\u001b[0m\u001b[0mshape\u001b[0m\u001b[0;34m[\u001b[0m\u001b[0;36m0\u001b[0m\u001b[0;34m]\u001b[0m\u001b[0;34m:\u001b[0m\u001b[0;34m\u001b[0m\u001b[0m\n\u001b[1;32m    241\u001b[0m             raise ValueError(\"x and y must have same first dimension, but \"\n\u001b[0;32m--> 242\u001b[0;31m                              \"have shapes {} and {}\".format(x.shape, y.shape))\n\u001b[0m\u001b[1;32m    243\u001b[0m         \u001b[0;32mif\u001b[0m \u001b[0mx\u001b[0m\u001b[0;34m.\u001b[0m\u001b[0mndim\u001b[0m \u001b[0;34m>\u001b[0m \u001b[0;36m2\u001b[0m \u001b[0;32mor\u001b[0m \u001b[0my\u001b[0m\u001b[0;34m.\u001b[0m\u001b[0mndim\u001b[0m \u001b[0;34m>\u001b[0m \u001b[0;36m2\u001b[0m\u001b[0;34m:\u001b[0m\u001b[0;34m\u001b[0m\u001b[0m\n\u001b[1;32m    244\u001b[0m             raise ValueError(\"x and y can be no greater than 2-D, but have \"\n",
      "\u001b[0;31mValueError\u001b[0m: x and y must have same first dimension, but have shapes (1, 2) and (0, 2)"
     ]
    },
    {
     "data": {
      "image/png": "[encoded data removed]",
      "text/plain": [
       "<Figure size 720x720 with 2 Axes>"
      ]
     },
     "metadata": {},
     "output_type": "display_data"
    }
   ],
   "source": [
    "plt.figure(figsize=(10,10))\n",
    "plt.subplot(3,2,1)\n",
    "plt.title('demo')\n",
    "plt.scatter(map['B_LNG'], map['B_LAT'])\n",
    "colors = ['b', 'g', 'r', 'c', 'm', 'y', 'k', 'b']\n",
    "markers = ['o', 's', 'D', 'v', '^', 'p', '*', '+']\n",
    "# tests=[2,3,4,5,8]\n",
    "tests=[2]\n",
    "subplot_counter=1\n",
    "for t in tests:\n",
    "    subplot_counter+=1\n",
    "    plt.subplot(3,2,subplot_counter)\n",
    "    kmeans_model=KMeans(n_clusters=t).fit(map)\n",
    "    \n",
    "#     print kmeans_model.labels_:每个点对应的标签值\n",
    "    for i,l in enumerate(kmeans_model.labels_):\n",
    "        plt.plot(map.iloc[i:1],map.iloc[i:0],color=colors[l],\n",
    "             marker=markers[l],\n",
    "                 ls='None')\n",
    "        plt.title('K = %s, aa = %.03f' % \n",
    "                  (t, metrics.silhouette_score\n",
    "                   (X, kmeans_model.labels_,metric='euclidean')))\n"
   ]
  },
  {
   "cell_type": "code",
   "execution_count": null,
   "metadata": {},
   "outputs": [],
   "source": []
  }
 ],
 "metadata": {
  "kernelspec": {
   "display_name": "Python 3",
   "language": "python",
   "name": "python3"
  },
  "language_info": {
   "codemirror_mode": {
    "name": "ipython",
    "version": 3
   },
   "file_extension": ".py",
   "mimetype": "text/x-python",
   "name": "python",
   "nbconvert_exporter": "python",
   "pygments_lexer": "ipython3",
   "version": "3.6.5"
  }
 },
 "nbformat": 4,
 "nbformat_minor": 2
}
