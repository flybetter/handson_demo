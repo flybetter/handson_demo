{
 "cells": [
  {
   "cell_type": "code",
   "execution_count": 6,
   "metadata": {},
   "outputs": [
    {
     "name": "stdout",
     "output_type": "stream",
     "text": [
      "datasets/lifesat\n"
     ]
    }
   ],
   "source": [
    "import os\n",
    "path=os.path.join('datasets','lifesat')\n",
    "print(path)"
   ]
  },
  {
   "cell_type": "code",
   "execution_count": 25,
   "metadata": {},
   "outputs": [
    {
     "name": "stdout",
     "output_type": "stream",
     "text": [
      "<class 'pandas.core.frame.DataFrame'>\n",
      "Index: 37 entries, Australia to United States\n",
      "Data columns (total 24 columns):\n",
      "Air pollution                                37 non-null float64\n",
      "Assault rate                                 37 non-null float64\n",
      "Consultation on rule-making                  37 non-null float64\n",
      "Dwellings without basic facilities           37 non-null float64\n",
      "Educational attainment                       37 non-null float64\n",
      "Employees working very long hours            37 non-null float64\n",
      "Employment rate                              37 non-null float64\n",
      "Homicide rate                                37 non-null float64\n",
      "Household net adjusted disposable income     37 non-null float64\n",
      "Household net financial wealth               37 non-null float64\n",
      "Housing expenditure                          37 non-null float64\n",
      "Job security                                 37 non-null float64\n",
      "Life expectancy                              37 non-null float64\n",
      "Life satisfaction                            37 non-null float64\n",
      "Long-term unemployment rate                  37 non-null float64\n",
      "Personal earnings                            37 non-null float64\n",
      "Quality of support network                   37 non-null float64\n",
      "Rooms per person                             37 non-null float64\n",
      "Self-reported health                         37 non-null float64\n",
      "Student skills                               37 non-null float64\n",
      "Time devoted to leisure and personal care    37 non-null float64\n",
      "Voter turnout                                37 non-null float64\n",
      "Water quality                                37 non-null float64\n",
      "Years in education                           37 non-null float64\n",
      "dtypes: float64(24)\n",
      "memory usage: 7.2+ KB\n"
     ]
    }
   ],
   "source": [
    "life_sat=pd.read_csv(path+os.sep+\"oecd_bli_2015.csv\",thousands=\",\")\n",
    "life_sat_total=life_sat[life_sat[\"INEQUALITY\"]==\"TOT\"]\n",
    "life_sat_total=life_sat_total.pivot(index=\"Country\",columns=\"Indicator\",values=\"Value\")\n",
    "life_sat_total.info()\n"
   ]
  },
  {
   "cell_type": "code",
   "execution_count": 27,
   "metadata": {},
   "outputs": [
    {
     "name": "stdout",
     "output_type": "stream",
     "text": [
      "<class 'pandas.core.frame.DataFrame'>\n",
      "Index: 190 entries, Afghanistan to International Monetary Fund, World Economic Outlook Database, April 2016\n",
      "Data columns (total 6 columns):\n",
      "Subject Descriptor               189 non-null object\n",
      "Units                            189 non-null object\n",
      "Scale                            189 non-null object\n",
      "Country/Series-specific Notes    188 non-null object\n",
      "2015                             187 non-null float64\n",
      "Estimates Start After            188 non-null float64\n",
      "dtypes: float64(2), object(4)\n",
      "memory usage: 10.4+ KB\n"
     ]
    }
   ],
   "source": [
    "gdp_per_capita=pd.read_csv(path+os.sep+\"gdp_per_capita.csv\",thousands=\",\",delimiter='\\t',encoding='latin1',na_values='n/a',index_col=\"Country\")\n",
    "gdp_per_capita.info()"
   ]
  },
  {
   "cell_type": "code",
   "execution_count": 28,
   "metadata": {},
   "outputs": [],
   "source": [
    "gdp_per_capita.rename(columns={\"2015\":\"GDP per capita\"},inplace=True)"
   ]
  },
  {
   "cell_type": "code",
   "execution_count": 29,
   "metadata": {},
   "outputs": [
    {
     "name": "stdout",
     "output_type": "stream",
     "text": [
      "<class 'pandas.core.frame.DataFrame'>\n",
      "Index: 190 entries, Afghanistan to International Monetary Fund, World Economic Outlook Database, April 2016\n",
      "Data columns (total 6 columns):\n",
      "Subject Descriptor               189 non-null object\n",
      "Units                            189 non-null object\n",
      "Scale                            189 non-null object\n",
      "Country/Series-specific Notes    188 non-null object\n",
      "GDP per capita                   187 non-null float64\n",
      "Estimates Start After            188 non-null float64\n",
      "dtypes: float64(2), object(4)\n",
      "memory usage: 10.4+ KB\n"
     ]
    }
   ],
   "source": [
    "gdp_per_capita.info()"
   ]
  },
  {
   "cell_type": "code",
   "execution_count": null,
   "metadata": {},
   "outputs": [],
   "source": []
  }
 ],
 "metadata": {
  "kernelspec": {
   "display_name": "Python 3",
   "language": "python",
   "name": "python3"
  },
  "language_info": {
   "codemirror_mode": {
    "name": "ipython",
    "version": 3
   },
   "file_extension": ".py",
   "mimetype": "text/x-python",
   "name": "python",
   "nbconvert_exporter": "python",
   "pygments_lexer": "ipython3",
   "version": "3.6.5"
  }
 },
 "nbformat": 4,
 "nbformat_minor": 2
}
